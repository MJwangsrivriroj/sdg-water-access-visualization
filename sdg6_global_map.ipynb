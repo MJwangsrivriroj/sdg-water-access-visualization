{
 "cells": [
  {
   "cell_type": "markdown",
   "id": "e80d89a7-ec72-4798-866b-68289e1eb55e",
   "metadata": {},
   "source": [
    "# Project Vis 1: Global Access to Safely Managed Drinking Water\n",
    "\n",
    "## Goal\n",
    "This visualization shows the percentage of population with access to safely managed drinking water by country, using the most recent data available for SDG Indicator 6.1.1.\n",
    "\n",
    "## Data Source\n",
    "- Source: World Bank – Indicator SH.H2O.SMDW.ZS\n",
    "- Link: https://data.worldbank.org/indicator/SH.H2O.SMDW.ZS\n",
    "- File: API_SH.H2O.SMDW.ZS_DS2_en_csv_v2_19500.csv"
   ]
  },
  {
   "cell_type": "markdown",
   "id": "63edebc0-19f4-40c1-88ba-1fd737fd7e32",
   "metadata": {},
   "source": [
    "## 1. Load the Dataset\n",
    "\n",
    "We are using a CSV file downloaded from the World Bank that contains data for SDG Indicator 6.1.1 (safely managed drinking water services).  \n",
    "The first few rows in the file include metadata (descriptions and notes), so we skip them to read only the actual data table."
   ]
  },
  {
   "cell_type": "code",
   "execution_count": 13,
   "id": "76eebe71-6219-4652-892e-7032f949b16b",
   "metadata": {},
   "outputs": [
    {
     "data": {
      "text/html": [
       "<div>\n",
       "<style scoped>\n",
       "    .dataframe tbody tr th:only-of-type {\n",
       "        vertical-align: middle;\n",
       "    }\n",
       "\n",
       "    .dataframe tbody tr th {\n",
       "        vertical-align: top;\n",
       "    }\n",
       "\n",
       "    .dataframe thead th {\n",
       "        text-align: right;\n",
       "    }\n",
       "</style>\n",
       "<table border=\"1\" class=\"dataframe\">\n",
       "  <thead>\n",
       "    <tr style=\"text-align: right;\">\n",
       "      <th></th>\n",
       "      <th>Country Name</th>\n",
       "      <th>Country Code</th>\n",
       "      <th>Indicator Name</th>\n",
       "      <th>Indicator Code</th>\n",
       "      <th>1960</th>\n",
       "      <th>1961</th>\n",
       "      <th>1962</th>\n",
       "      <th>1963</th>\n",
       "      <th>1964</th>\n",
       "      <th>1965</th>\n",
       "      <th>...</th>\n",
       "      <th>2016</th>\n",
       "      <th>2017</th>\n",
       "      <th>2018</th>\n",
       "      <th>2019</th>\n",
       "      <th>2020</th>\n",
       "      <th>2021</th>\n",
       "      <th>2022</th>\n",
       "      <th>2023</th>\n",
       "      <th>2024</th>\n",
       "      <th>Unnamed: 69</th>\n",
       "    </tr>\n",
       "  </thead>\n",
       "  <tbody>\n",
       "    <tr>\n",
       "      <th>0</th>\n",
       "      <td>Aruba</td>\n",
       "      <td>ABW</td>\n",
       "      <td>People using safely managed drinking water ser...</td>\n",
       "      <td>SH.H2O.SMDW.ZS</td>\n",
       "      <td>NaN</td>\n",
       "      <td>NaN</td>\n",
       "      <td>NaN</td>\n",
       "      <td>NaN</td>\n",
       "      <td>NaN</td>\n",
       "      <td>NaN</td>\n",
       "      <td>...</td>\n",
       "      <td>NaN</td>\n",
       "      <td>NaN</td>\n",
       "      <td>NaN</td>\n",
       "      <td>NaN</td>\n",
       "      <td>NaN</td>\n",
       "      <td>NaN</td>\n",
       "      <td>NaN</td>\n",
       "      <td>NaN</td>\n",
       "      <td>NaN</td>\n",
       "      <td>NaN</td>\n",
       "    </tr>\n",
       "    <tr>\n",
       "      <th>1</th>\n",
       "      <td>Africa Eastern and Southern</td>\n",
       "      <td>AFE</td>\n",
       "      <td>People using safely managed drinking water ser...</td>\n",
       "      <td>SH.H2O.SMDW.ZS</td>\n",
       "      <td>NaN</td>\n",
       "      <td>NaN</td>\n",
       "      <td>NaN</td>\n",
       "      <td>NaN</td>\n",
       "      <td>NaN</td>\n",
       "      <td>NaN</td>\n",
       "      <td>...</td>\n",
       "      <td>NaN</td>\n",
       "      <td>NaN</td>\n",
       "      <td>NaN</td>\n",
       "      <td>NaN</td>\n",
       "      <td>NaN</td>\n",
       "      <td>NaN</td>\n",
       "      <td>NaN</td>\n",
       "      <td>NaN</td>\n",
       "      <td>NaN</td>\n",
       "      <td>NaN</td>\n",
       "    </tr>\n",
       "    <tr>\n",
       "      <th>2</th>\n",
       "      <td>Afghanistan</td>\n",
       "      <td>AFG</td>\n",
       "      <td>People using safely managed drinking water ser...</td>\n",
       "      <td>SH.H2O.SMDW.ZS</td>\n",
       "      <td>NaN</td>\n",
       "      <td>NaN</td>\n",
       "      <td>NaN</td>\n",
       "      <td>NaN</td>\n",
       "      <td>NaN</td>\n",
       "      <td>NaN</td>\n",
       "      <td>...</td>\n",
       "      <td>24.762220</td>\n",
       "      <td>25.671417</td>\n",
       "      <td>26.581315</td>\n",
       "      <td>27.491734</td>\n",
       "      <td>28.402505</td>\n",
       "      <td>29.313843</td>\n",
       "      <td>30.034098</td>\n",
       "      <td>NaN</td>\n",
       "      <td>NaN</td>\n",
       "      <td>NaN</td>\n",
       "    </tr>\n",
       "    <tr>\n",
       "      <th>3</th>\n",
       "      <td>Africa Western and Central</td>\n",
       "      <td>AFW</td>\n",
       "      <td>People using safely managed drinking water ser...</td>\n",
       "      <td>SH.H2O.SMDW.ZS</td>\n",
       "      <td>NaN</td>\n",
       "      <td>NaN</td>\n",
       "      <td>NaN</td>\n",
       "      <td>NaN</td>\n",
       "      <td>NaN</td>\n",
       "      <td>NaN</td>\n",
       "      <td>...</td>\n",
       "      <td>25.939665</td>\n",
       "      <td>26.670709</td>\n",
       "      <td>27.392798</td>\n",
       "      <td>28.113864</td>\n",
       "      <td>28.810001</td>\n",
       "      <td>29.321655</td>\n",
       "      <td>29.517207</td>\n",
       "      <td>NaN</td>\n",
       "      <td>NaN</td>\n",
       "      <td>NaN</td>\n",
       "    </tr>\n",
       "    <tr>\n",
       "      <th>4</th>\n",
       "      <td>Angola</td>\n",
       "      <td>AGO</td>\n",
       "      <td>People using safely managed drinking water ser...</td>\n",
       "      <td>SH.H2O.SMDW.ZS</td>\n",
       "      <td>NaN</td>\n",
       "      <td>NaN</td>\n",
       "      <td>NaN</td>\n",
       "      <td>NaN</td>\n",
       "      <td>NaN</td>\n",
       "      <td>NaN</td>\n",
       "      <td>...</td>\n",
       "      <td>NaN</td>\n",
       "      <td>NaN</td>\n",
       "      <td>NaN</td>\n",
       "      <td>NaN</td>\n",
       "      <td>NaN</td>\n",
       "      <td>NaN</td>\n",
       "      <td>NaN</td>\n",
       "      <td>NaN</td>\n",
       "      <td>NaN</td>\n",
       "      <td>NaN</td>\n",
       "    </tr>\n",
       "  </tbody>\n",
       "</table>\n",
       "<p>5 rows × 70 columns</p>\n",
       "</div>"
      ],
      "text/plain": [
       "                  Country Name Country Code  \\\n",
       "0                        Aruba          ABW   \n",
       "1  Africa Eastern and Southern          AFE   \n",
       "2                  Afghanistan          AFG   \n",
       "3   Africa Western and Central          AFW   \n",
       "4                       Angola          AGO   \n",
       "\n",
       "                                      Indicator Name  Indicator Code  1960  \\\n",
       "0  People using safely managed drinking water ser...  SH.H2O.SMDW.ZS   NaN   \n",
       "1  People using safely managed drinking water ser...  SH.H2O.SMDW.ZS   NaN   \n",
       "2  People using safely managed drinking water ser...  SH.H2O.SMDW.ZS   NaN   \n",
       "3  People using safely managed drinking water ser...  SH.H2O.SMDW.ZS   NaN   \n",
       "4  People using safely managed drinking water ser...  SH.H2O.SMDW.ZS   NaN   \n",
       "\n",
       "   1961  1962  1963  1964  1965  ...       2016       2017       2018  \\\n",
       "0   NaN   NaN   NaN   NaN   NaN  ...        NaN        NaN        NaN   \n",
       "1   NaN   NaN   NaN   NaN   NaN  ...        NaN        NaN        NaN   \n",
       "2   NaN   NaN   NaN   NaN   NaN  ...  24.762220  25.671417  26.581315   \n",
       "3   NaN   NaN   NaN   NaN   NaN  ...  25.939665  26.670709  27.392798   \n",
       "4   NaN   NaN   NaN   NaN   NaN  ...        NaN        NaN        NaN   \n",
       "\n",
       "        2019       2020       2021       2022  2023  2024  Unnamed: 69  \n",
       "0        NaN        NaN        NaN        NaN   NaN   NaN          NaN  \n",
       "1        NaN        NaN        NaN        NaN   NaN   NaN          NaN  \n",
       "2  27.491734  28.402505  29.313843  30.034098   NaN   NaN          NaN  \n",
       "3  28.113864  28.810001  29.321655  29.517207   NaN   NaN          NaN  \n",
       "4        NaN        NaN        NaN        NaN   NaN   NaN          NaN  \n",
       "\n",
       "[5 rows x 70 columns]"
      ]
     },
     "execution_count": 13,
     "metadata": {},
     "output_type": "execute_result"
    }
   ],
   "source": [
    "import pandas as pd\n",
    "import plotly.express as px\n",
    "\n",
    "# Load the CSV\n",
    "df = pd.read_csv(\"API_SH.H2O.SMDW.ZS_DS2_en_csv_v2_19500.csv\", skiprows=4)\n",
    "df.head()"
   ]
  },
  {
   "cell_type": "markdown",
   "id": "20857c65-199b-4ec7-91f4-cd3ddf1b7468",
   "metadata": {},
   "source": [
    "## 2. Cleaning and Preparing the Data\n",
    "We'll keep only the most recent year (2022) and drop rows with missing values."
   ]
  },
  {
   "cell_type": "code",
   "execution_count": 16,
   "id": "97a42e51-1889-4f47-902a-d8fc806a8349",
   "metadata": {},
   "outputs": [
    {
     "data": {
      "text/html": [
       "<div>\n",
       "<style scoped>\n",
       "    .dataframe tbody tr th:only-of-type {\n",
       "        vertical-align: middle;\n",
       "    }\n",
       "\n",
       "    .dataframe tbody tr th {\n",
       "        vertical-align: top;\n",
       "    }\n",
       "\n",
       "    .dataframe thead th {\n",
       "        text-align: right;\n",
       "    }\n",
       "</style>\n",
       "<table border=\"1\" class=\"dataframe\">\n",
       "  <thead>\n",
       "    <tr style=\"text-align: right;\">\n",
       "      <th></th>\n",
       "      <th>Country</th>\n",
       "      <th>Access (%)</th>\n",
       "    </tr>\n",
       "  </thead>\n",
       "  <tbody>\n",
       "    <tr>\n",
       "      <th>2</th>\n",
       "      <td>Afghanistan</td>\n",
       "      <td>30.034098</td>\n",
       "    </tr>\n",
       "    <tr>\n",
       "      <th>3</th>\n",
       "      <td>Africa Western and Central</td>\n",
       "      <td>29.517207</td>\n",
       "    </tr>\n",
       "    <tr>\n",
       "      <th>5</th>\n",
       "      <td>Albania</td>\n",
       "      <td>70.736068</td>\n",
       "    </tr>\n",
       "    <tr>\n",
       "      <th>6</th>\n",
       "      <td>Andorra</td>\n",
       "      <td>90.640001</td>\n",
       "    </tr>\n",
       "    <tr>\n",
       "      <th>10</th>\n",
       "      <td>Armenia</td>\n",
       "      <td>82.411724</td>\n",
       "    </tr>\n",
       "  </tbody>\n",
       "</table>\n",
       "</div>"
      ],
      "text/plain": [
       "                       Country  Access (%)\n",
       "2                  Afghanistan   30.034098\n",
       "3   Africa Western and Central   29.517207\n",
       "5                      Albania   70.736068\n",
       "6                      Andorra   90.640001\n",
       "10                     Armenia   82.411724"
      ]
     },
     "execution_count": 16,
     "metadata": {},
     "output_type": "execute_result"
    }
   ],
   "source": [
    "df_clean = df[['Country Name', '2022']].dropna()\n",
    "df_clean.columns = ['Country', 'Access (%)']\n",
    "df_clean.head()"
   ]
  },
  {
   "cell_type": "markdown",
   "id": "6f1a5532-de88-4100-aa15-195eedbb52e3",
   "metadata": {},
   "source": [
    "## 3. Visual: Map of Drinking Water Access\n",
    "We'll use Plotly Express to create an interactive world map showing access to safely managed drinking water."
   ]
  },
  {
   "cell_type": "code",
   "execution_count": 23,
   "id": "158efe71-df2d-4200-bea4-048f1bb4c775",
   "metadata": {},
   "outputs": [
    {
     "data": {
      "application/vnd.plotly.v1+json": {
       "config": {
        "plotlyServerURL": "https://plot.ly"
       },
       "data": [
        {
         "coloraxis": "coloraxis",
         "geo": "geo",
         "hovertemplate": "Country=%{location}<br>Access (%)=%{z}<extra></extra>",
         "locationmode": "country names",
         "locations": [
          "Afghanistan",
          "Africa Western and Central",
          "Albania",
          "Andorra",
          "Armenia",
          "Austria",
          "Azerbaijan",
          "Belgium",
          "Bangladesh",
          "Bulgaria",
          "Bahrain",
          "Bosnia and Herzegovina",
          "Belarus",
          "Brazil",
          "Bhutan",
          "Central African Republic",
          "Canada",
          "Central Europe and the Baltics",
          "Switzerland",
          "Chile",
          "Cote d'Ivoire",
          "Congo, Dem. Rep.",
          "Colombia",
          "Costa Rica",
          "Cyprus",
          "Czechia",
          "Germany",
          "Denmark",
          "Dominican Republic",
          "Algeria",
          "East Asia & Pacific",
          "Europe & Central Asia",
          "Ecuador",
          "Euro area",
          "Spain",
          "Estonia",
          "Ethiopia",
          "European Union",
          "Finland",
          "Fiji",
          "France",
          "United Kingdom",
          "Georgia",
          "Ghana",
          "Gibraltar",
          "Gambia, The",
          "Guinea-Bissau",
          "Greece",
          "Guatemala",
          "Guam",
          "High income",
          "Hong Kong SAR, China",
          "Honduras",
          "Hungary",
          "IDA total",
          "IDA blend",
          "Indonesia",
          "IDA only",
          "Isle of Man",
          "Ireland",
          "Iran, Islamic Rep.",
          "Iraq",
          "Iceland",
          "Israel",
          "Italy",
          "Jordan",
          "Japan",
          "Kyrgyz Republic",
          "Cambodia",
          "Kiribati",
          "Korea, Rep.",
          "Kuwait",
          "Latin America & Caribbean (excluding high income)",
          "Lao PDR",
          "Lebanon",
          "Latin America & Caribbean",
          "Least developed countries: UN classification",
          "Low income",
          "Liechtenstein",
          "Sri Lanka",
          "Lower middle income",
          "Low & middle income",
          "Lesotho",
          "Lithuania",
          "Luxembourg",
          "Latvia",
          "Macao SAR, China",
          "St. Martin (French part)",
          "Morocco",
          "Monaco",
          "Moldova",
          "Madagascar",
          "Middle East & North Africa",
          "Mexico",
          "North Macedonia",
          "Malta",
          "Myanmar",
          "Montenegro",
          "Mongolia",
          "Northern Mariana Islands",
          "Malawi",
          "Malaysia",
          "North America",
          "New Caledonia",
          "Nigeria",
          "Netherlands",
          "Norway",
          "Nepal",
          "New Zealand",
          "OECD members",
          "Oman",
          "Pakistan",
          "Peru",
          "Philippines",
          "Palau",
          "Poland",
          "Puerto Rico",
          "Korea, Dem. People's Rep.",
          "Portugal",
          "Paraguay",
          "West Bank and Gaza",
          "Post-demographic dividend",
          "French Polynesia",
          "Qatar",
          "Romania",
          "Russian Federation",
          "Senegal",
          "Singapore",
          "Sierra Leone",
          "San Marino",
          "Serbia",
          "Sub-Saharan Africa",
          "Sao Tome and Principe",
          "Suriname",
          "Slovak Republic",
          "Slovenia",
          "Sweden",
          "Turks and Caicos Islands",
          "Chad",
          "Europe & Central Asia (IDA & IBRD countries)",
          "Togo",
          "Tajikistan",
          "Turkmenistan",
          "Latin America & the Caribbean (IDA & IBRD countries)",
          "Tonga",
          "Tunisia",
          "Tuvalu",
          "Tanzania",
          "Uganda",
          "Ukraine",
          "Upper middle income",
          "United States",
          "Uzbekistan",
          "Viet Nam",
          "World",
          "Samoa",
          "Zimbabwe"
         ],
         "name": "",
         "type": "choropleth",
         "z": [
          30.0340981310563,
          29.5172067235587,
          70.7360679461577,
          90.640001490064,
          82.4117239415569,
          98.8963233865813,
          71.6117027151749,
          99.739449377802,
          59.1092953183807,
          95.6543313759674,
          98.9039755631804,
          86.9706794612828,
          93.0997559157322,
          87.2587154718951,
          73.3419919439661,
          6.12644463898753,
          99.0397292852425,
          91.3632513312481,
          96.7000018583182,
          98.7713643041914,
          43.8921552555398,
          11.5843357881251,
          73.8560448264451,
          80.5075784878385,
          99.7650627352206,
          97.8834116268806,
          99.9164119020981,
          99.9188291924832,
          44.9411768110773,
          70.5979339572563,
          78.4470389439723,
          91.8732478669711,
          67.0895117739847,
          98.2336738195882,
          99.5671426373018,
          97.0193826204319,
          13.2378982432178,
          96.8167469839566,
          99.6420270617799,
          41.8635812237094,
          99.7041454123987,
          99.8041470058874,
          69.1418510304816,
          44.4680831984093,
          100,
          47.6746525259498,
          23.871601843252,
          98.879641286099,
          56.293305047255,
          99.059791733307,
          94.3030605989175,
          100,
          65.2067969400954,
          100,
          35.3924601354888,
          42.527270040724,
          30.2661667151466,
          31.2258940831658,
          99.7098313889755,
          95.9914050398065,
          94.2212514688695,
          59.7426312653863,
          100,
          99.4711560405675,
          92.7105575597704,
          85.7091310193345,
          98.6585502009944,
          76.4871521039571,
          29.131279569715,
          14.4140746669502,
          99.2801236024823,
          100,
          68.250412068412,
          17.8720755715615,
          47.7,
          75.2136848541317,
          28.4720645391208,
          28.6029483413205,
          100,
          47.1275328737655,
          63.7993267618182,
          68.8059710676649,
          28.2174874193037,
          94.9814964714414,
          99.5340819574653,
          97.1112722593105,
          100,
          96.6287648090298,
          74.8241993528604,
          100,
          75.2243421159045,
          22.2392232754516,
          78.4821111166479,
          43.0378794213272,
          80.4470258702833,
          99.7724155281172,
          57.3964993719658,
          85.1189179871969,
          39.2801550444961,
          90.6391752577319,
          17.7570796234108,
          93.941920809996,
          97.3935471146617,
          96.8652854148107,
          28.9848848748333,
          99.9678911890245,
          98.8231103374865,
          16.1166371410422,
          100,
          91.3340517052097,
          90.851749132955,
          50.6017785742925,
          51.9852117120259,
          47.9019041200159,
          90.4408486187601,
          88.9144993074404,
          99.8731075904989,
          66.531399868941,
          95.1567339921988,
          64.2206042704366,
          80.3301824695162,
          97.7912710276369,
          81.8132594702229,
          96.654816058767,
          82.0723248379512,
          76.2331071384836,
          26.6925904153209,
          100,
          10.262418642337,
          100,
          75.0752476006734,
          31.9852156360482,
          36.3006918200211,
          55.7961520243991,
          99.1847298839003,
          98.2743209096652,
          99.7388798657575,
          47.0850771759839,
          6.24704860480126,
          80.0731676868782,
          19.4177904317129,
          55.2921007475287,
          94.8805426953047,
          69.4125477671257,
          29.5287016952487,
          74.3034603115934,
          8.70710061176711,
          11.3356525332316,
          18.6814232075292,
          87.6207250140124,
          80.6207019281883,
          97.468388745246,
          79.8452982407754,
          57.7814114254904,
          72.9271522792495,
          62.1917137502586,
          26.5164278963248
         ]
        }
       ],
       "layout": {
        "coloraxis": {
         "colorbar": {
          "title": {
           "text": "Access (%)"
          }
         },
         "colorscale": [
          [
           0,
           "rgb(255,255,217)"
          ],
          [
           0.125,
           "rgb(237,248,177)"
          ],
          [
           0.25,
           "rgb(199,233,180)"
          ],
          [
           0.375,
           "rgb(127,205,187)"
          ],
          [
           0.5,
           "rgb(65,182,196)"
          ],
          [
           0.625,
           "rgb(29,145,192)"
          ],
          [
           0.75,
           "rgb(34,94,168)"
          ],
          [
           0.875,
           "rgb(37,52,148)"
          ],
          [
           1,
           "rgb(8,29,88)"
          ]
         ]
        },
        "geo": {
         "center": {},
         "domain": {
          "x": [
           0,
           1
          ],
          "y": [
           0,
           1
          ]
         },
         "showcoastlines": false,
         "showframe": false
        },
        "height": 600,
        "legend": {
         "tracegroupgap": 0
        },
        "template": {
         "data": {
          "bar": [
           {
            "error_x": {
             "color": "#2a3f5f"
            },
            "error_y": {
             "color": "#2a3f5f"
            },
            "marker": {
             "line": {
              "color": "#E5ECF6",
              "width": 0.5
             },
             "pattern": {
              "fillmode": "overlay",
              "size": 10,
              "solidity": 0.2
             }
            },
            "type": "bar"
           }
          ],
          "barpolar": [
           {
            "marker": {
             "line": {
              "color": "#E5ECF6",
              "width": 0.5
             },
             "pattern": {
              "fillmode": "overlay",
              "size": 10,
              "solidity": 0.2
             }
            },
            "type": "barpolar"
           }
          ],
          "carpet": [
           {
            "aaxis": {
             "endlinecolor": "#2a3f5f",
             "gridcolor": "white",
             "linecolor": "white",
             "minorgridcolor": "white",
             "startlinecolor": "#2a3f5f"
            },
            "baxis": {
             "endlinecolor": "#2a3f5f",
             "gridcolor": "white",
             "linecolor": "white",
             "minorgridcolor": "white",
             "startlinecolor": "#2a3f5f"
            },
            "type": "carpet"
           }
          ],
          "choropleth": [
           {
            "colorbar": {
             "outlinewidth": 0,
             "ticks": ""
            },
            "type": "choropleth"
           }
          ],
          "contour": [
           {
            "colorbar": {
             "outlinewidth": 0,
             "ticks": ""
            },
            "colorscale": [
             [
              0,
              "#0d0887"
             ],
             [
              0.1111111111111111,
              "#46039f"
             ],
             [
              0.2222222222222222,
              "#7201a8"
             ],
             [
              0.3333333333333333,
              "#9c179e"
             ],
             [
              0.4444444444444444,
              "#bd3786"
             ],
             [
              0.5555555555555556,
              "#d8576b"
             ],
             [
              0.6666666666666666,
              "#ed7953"
             ],
             [
              0.7777777777777778,
              "#fb9f3a"
             ],
             [
              0.8888888888888888,
              "#fdca26"
             ],
             [
              1,
              "#f0f921"
             ]
            ],
            "type": "contour"
           }
          ],
          "contourcarpet": [
           {
            "colorbar": {
             "outlinewidth": 0,
             "ticks": ""
            },
            "type": "contourcarpet"
           }
          ],
          "heatmap": [
           {
            "colorbar": {
             "outlinewidth": 0,
             "ticks": ""
            },
            "colorscale": [
             [
              0,
              "#0d0887"
             ],
             [
              0.1111111111111111,
              "#46039f"
             ],
             [
              0.2222222222222222,
              "#7201a8"
             ],
             [
              0.3333333333333333,
              "#9c179e"
             ],
             [
              0.4444444444444444,
              "#bd3786"
             ],
             [
              0.5555555555555556,
              "#d8576b"
             ],
             [
              0.6666666666666666,
              "#ed7953"
             ],
             [
              0.7777777777777778,
              "#fb9f3a"
             ],
             [
              0.8888888888888888,
              "#fdca26"
             ],
             [
              1,
              "#f0f921"
             ]
            ],
            "type": "heatmap"
           }
          ],
          "heatmapgl": [
           {
            "colorbar": {
             "outlinewidth": 0,
             "ticks": ""
            },
            "colorscale": [
             [
              0,
              "#0d0887"
             ],
             [
              0.1111111111111111,
              "#46039f"
             ],
             [
              0.2222222222222222,
              "#7201a8"
             ],
             [
              0.3333333333333333,
              "#9c179e"
             ],
             [
              0.4444444444444444,
              "#bd3786"
             ],
             [
              0.5555555555555556,
              "#d8576b"
             ],
             [
              0.6666666666666666,
              "#ed7953"
             ],
             [
              0.7777777777777778,
              "#fb9f3a"
             ],
             [
              0.8888888888888888,
              "#fdca26"
             ],
             [
              1,
              "#f0f921"
             ]
            ],
            "type": "heatmapgl"
           }
          ],
          "histogram": [
           {
            "marker": {
             "pattern": {
              "fillmode": "overlay",
              "size": 10,
              "solidity": 0.2
             }
            },
            "type": "histogram"
           }
          ],
          "histogram2d": [
           {
            "colorbar": {
             "outlinewidth": 0,
             "ticks": ""
            },
            "colorscale": [
             [
              0,
              "#0d0887"
             ],
             [
              0.1111111111111111,
              "#46039f"
             ],
             [
              0.2222222222222222,
              "#7201a8"
             ],
             [
              0.3333333333333333,
              "#9c179e"
             ],
             [
              0.4444444444444444,
              "#bd3786"
             ],
             [
              0.5555555555555556,
              "#d8576b"
             ],
             [
              0.6666666666666666,
              "#ed7953"
             ],
             [
              0.7777777777777778,
              "#fb9f3a"
             ],
             [
              0.8888888888888888,
              "#fdca26"
             ],
             [
              1,
              "#f0f921"
             ]
            ],
            "type": "histogram2d"
           }
          ],
          "histogram2dcontour": [
           {
            "colorbar": {
             "outlinewidth": 0,
             "ticks": ""
            },
            "colorscale": [
             [
              0,
              "#0d0887"
             ],
             [
              0.1111111111111111,
              "#46039f"
             ],
             [
              0.2222222222222222,
              "#7201a8"
             ],
             [
              0.3333333333333333,
              "#9c179e"
             ],
             [
              0.4444444444444444,
              "#bd3786"
             ],
             [
              0.5555555555555556,
              "#d8576b"
             ],
             [
              0.6666666666666666,
              "#ed7953"
             ],
             [
              0.7777777777777778,
              "#fb9f3a"
             ],
             [
              0.8888888888888888,
              "#fdca26"
             ],
             [
              1,
              "#f0f921"
             ]
            ],
            "type": "histogram2dcontour"
           }
          ],
          "mesh3d": [
           {
            "colorbar": {
             "outlinewidth": 0,
             "ticks": ""
            },
            "type": "mesh3d"
           }
          ],
          "parcoords": [
           {
            "line": {
             "colorbar": {
              "outlinewidth": 0,
              "ticks": ""
             }
            },
            "type": "parcoords"
           }
          ],
          "pie": [
           {
            "automargin": true,
            "type": "pie"
           }
          ],
          "scatter": [
           {
            "fillpattern": {
             "fillmode": "overlay",
             "size": 10,
             "solidity": 0.2
            },
            "type": "scatter"
           }
          ],
          "scatter3d": [
           {
            "line": {
             "colorbar": {
              "outlinewidth": 0,
              "ticks": ""
             }
            },
            "marker": {
             "colorbar": {
              "outlinewidth": 0,
              "ticks": ""
             }
            },
            "type": "scatter3d"
           }
          ],
          "scattercarpet": [
           {
            "marker": {
             "colorbar": {
              "outlinewidth": 0,
              "ticks": ""
             }
            },
            "type": "scattercarpet"
           }
          ],
          "scattergeo": [
           {
            "marker": {
             "colorbar": {
              "outlinewidth": 0,
              "ticks": ""
             }
            },
            "type": "scattergeo"
           }
          ],
          "scattergl": [
           {
            "marker": {
             "colorbar": {
              "outlinewidth": 0,
              "ticks": ""
             }
            },
            "type": "scattergl"
           }
          ],
          "scattermapbox": [
           {
            "marker": {
             "colorbar": {
              "outlinewidth": 0,
              "ticks": ""
             }
            },
            "type": "scattermapbox"
           }
          ],
          "scatterpolar": [
           {
            "marker": {
             "colorbar": {
              "outlinewidth": 0,
              "ticks": ""
             }
            },
            "type": "scatterpolar"
           }
          ],
          "scatterpolargl": [
           {
            "marker": {
             "colorbar": {
              "outlinewidth": 0,
              "ticks": ""
             }
            },
            "type": "scatterpolargl"
           }
          ],
          "scatterternary": [
           {
            "marker": {
             "colorbar": {
              "outlinewidth": 0,
              "ticks": ""
             }
            },
            "type": "scatterternary"
           }
          ],
          "surface": [
           {
            "colorbar": {
             "outlinewidth": 0,
             "ticks": ""
            },
            "colorscale": [
             [
              0,
              "#0d0887"
             ],
             [
              0.1111111111111111,
              "#46039f"
             ],
             [
              0.2222222222222222,
              "#7201a8"
             ],
             [
              0.3333333333333333,
              "#9c179e"
             ],
             [
              0.4444444444444444,
              "#bd3786"
             ],
             [
              0.5555555555555556,
              "#d8576b"
             ],
             [
              0.6666666666666666,
              "#ed7953"
             ],
             [
              0.7777777777777778,
              "#fb9f3a"
             ],
             [
              0.8888888888888888,
              "#fdca26"
             ],
             [
              1,
              "#f0f921"
             ]
            ],
            "type": "surface"
           }
          ],
          "table": [
           {
            "cells": {
             "fill": {
              "color": "#EBF0F8"
             },
             "line": {
              "color": "white"
             }
            },
            "header": {
             "fill": {
              "color": "#C8D4E3"
             },
             "line": {
              "color": "white"
             }
            },
            "type": "table"
           }
          ]
         },
         "layout": {
          "annotationdefaults": {
           "arrowcolor": "#2a3f5f",
           "arrowhead": 0,
           "arrowwidth": 1
          },
          "autotypenumbers": "strict",
          "coloraxis": {
           "colorbar": {
            "outlinewidth": 0,
            "ticks": ""
           }
          },
          "colorscale": {
           "diverging": [
            [
             0,
             "#8e0152"
            ],
            [
             0.1,
             "#c51b7d"
            ],
            [
             0.2,
             "#de77ae"
            ],
            [
             0.3,
             "#f1b6da"
            ],
            [
             0.4,
             "#fde0ef"
            ],
            [
             0.5,
             "#f7f7f7"
            ],
            [
             0.6,
             "#e6f5d0"
            ],
            [
             0.7,
             "#b8e186"
            ],
            [
             0.8,
             "#7fbc41"
            ],
            [
             0.9,
             "#4d9221"
            ],
            [
             1,
             "#276419"
            ]
           ],
           "sequential": [
            [
             0,
             "#0d0887"
            ],
            [
             0.1111111111111111,
             "#46039f"
            ],
            [
             0.2222222222222222,
             "#7201a8"
            ],
            [
             0.3333333333333333,
             "#9c179e"
            ],
            [
             0.4444444444444444,
             "#bd3786"
            ],
            [
             0.5555555555555556,
             "#d8576b"
            ],
            [
             0.6666666666666666,
             "#ed7953"
            ],
            [
             0.7777777777777778,
             "#fb9f3a"
            ],
            [
             0.8888888888888888,
             "#fdca26"
            ],
            [
             1,
             "#f0f921"
            ]
           ],
           "sequentialminus": [
            [
             0,
             "#0d0887"
            ],
            [
             0.1111111111111111,
             "#46039f"
            ],
            [
             0.2222222222222222,
             "#7201a8"
            ],
            [
             0.3333333333333333,
             "#9c179e"
            ],
            [
             0.4444444444444444,
             "#bd3786"
            ],
            [
             0.5555555555555556,
             "#d8576b"
            ],
            [
             0.6666666666666666,
             "#ed7953"
            ],
            [
             0.7777777777777778,
             "#fb9f3a"
            ],
            [
             0.8888888888888888,
             "#fdca26"
            ],
            [
             1,
             "#f0f921"
            ]
           ]
          },
          "colorway": [
           "#636efa",
           "#EF553B",
           "#00cc96",
           "#ab63fa",
           "#FFA15A",
           "#19d3f3",
           "#FF6692",
           "#B6E880",
           "#FF97FF",
           "#FECB52"
          ],
          "font": {
           "color": "#2a3f5f"
          },
          "geo": {
           "bgcolor": "white",
           "lakecolor": "white",
           "landcolor": "#E5ECF6",
           "showlakes": true,
           "showland": true,
           "subunitcolor": "white"
          },
          "hoverlabel": {
           "align": "left"
          },
          "hovermode": "closest",
          "mapbox": {
           "style": "light"
          },
          "paper_bgcolor": "white",
          "plot_bgcolor": "#E5ECF6",
          "polar": {
           "angularaxis": {
            "gridcolor": "white",
            "linecolor": "white",
            "ticks": ""
           },
           "bgcolor": "#E5ECF6",
           "radialaxis": {
            "gridcolor": "white",
            "linecolor": "white",
            "ticks": ""
           }
          },
          "scene": {
           "xaxis": {
            "backgroundcolor": "#E5ECF6",
            "gridcolor": "white",
            "gridwidth": 2,
            "linecolor": "white",
            "showbackground": true,
            "ticks": "",
            "zerolinecolor": "white"
           },
           "yaxis": {
            "backgroundcolor": "#E5ECF6",
            "gridcolor": "white",
            "gridwidth": 2,
            "linecolor": "white",
            "showbackground": true,
            "ticks": "",
            "zerolinecolor": "white"
           },
           "zaxis": {
            "backgroundcolor": "#E5ECF6",
            "gridcolor": "white",
            "gridwidth": 2,
            "linecolor": "white",
            "showbackground": true,
            "ticks": "",
            "zerolinecolor": "white"
           }
          },
          "shapedefaults": {
           "line": {
            "color": "#2a3f5f"
           }
          },
          "ternary": {
           "aaxis": {
            "gridcolor": "white",
            "linecolor": "white",
            "ticks": ""
           },
           "baxis": {
            "gridcolor": "white",
            "linecolor": "white",
            "ticks": ""
           },
           "bgcolor": "#E5ECF6",
           "caxis": {
            "gridcolor": "white",
            "linecolor": "white",
            "ticks": ""
           }
          },
          "title": {
           "x": 0.05
          },
          "xaxis": {
           "automargin": true,
           "gridcolor": "white",
           "linecolor": "white",
           "ticks": "",
           "title": {
            "standoff": 15
           },
           "zerolinecolor": "white",
           "zerolinewidth": 2
          },
          "yaxis": {
           "automargin": true,
           "gridcolor": "white",
           "linecolor": "white",
           "ticks": "",
           "title": {
            "standoff": 15
           },
           "zerolinecolor": "white",
           "zerolinewidth": 2
          }
         }
        },
        "title": {
         "text": "Access to Safely Managed Drinking Water by Country (2022)"
        },
        "width": 1000
       }
      },
      "image/png": "[encoded data removed]",
      "text/html": [
       "<div>                            <div id=\"3408ec7d-a73f-4e76-b198-90fd912fa6c8\" class=\"plotly-graph-div\" style=\"height:600px; width:1000px;\"></div>            <script type=\"text/javascript\">                require([\"plotly\"], function(Plotly) {                    window.PLOTLYENV=window.PLOTLYENV || {};                                    if (document.getElementById(\"3408ec7d-a73f-4e76-b198-90fd912fa6c8\")) {                    Plotly.newPlot(                        \"3408ec7d-a73f-4e76-b198-90fd912fa6c8\",                        [{\"coloraxis\":\"coloraxis\",\"geo\":\"geo\",\"hovertemplate\":\"Country=%{location}\\u003cbr\\u003eAccess (%)=%{z}\\u003cextra\\u003e\\u003c\\u002fextra\\u003e\",\"locationmode\":\"country names\",\"locations\":[\"Afghanistan\",\"Africa Western and Central\",\"Albania\",\"Andorra\",\"Armenia\",\"Austria\",\"Azerbaijan\",\"Belgium\",\"Bangladesh\",\"Bulgaria\",\"Bahrain\",\"Bosnia and Herzegovina\",\"Belarus\",\"Brazil\",\"Bhutan\",\"Central African Republic\",\"Canada\",\"Central Europe and the Baltics\",\"Switzerland\",\"Chile\",\"Cote d'Ivoire\",\"Congo, Dem. Rep.\",\"Colombia\",\"Costa Rica\",\"Cyprus\",\"Czechia\",\"Germany\",\"Denmark\",\"Dominican Republic\",\"Algeria\",\"East Asia & Pacific\",\"Europe & Central Asia\",\"Ecuador\",\"Euro area\",\"Spain\",\"Estonia\",\"Ethiopia\",\"European Union\",\"Finland\",\"Fiji\",\"France\",\"United Kingdom\",\"Georgia\",\"Ghana\",\"Gibraltar\",\"Gambia, The\",\"Guinea-Bissau\",\"Greece\",\"Guatemala\",\"Guam\",\"High income\",\"Hong Kong SAR, China\",\"Honduras\",\"Hungary\",\"IDA total\",\"IDA blend\",\"Indonesia\",\"IDA only\",\"Isle of Man\",\"Ireland\",\"Iran, Islamic Rep.\",\"Iraq\",\"Iceland\",\"Israel\",\"Italy\",\"Jordan\",\"Japan\",\"Kyrgyz Republic\",\"Cambodia\",\"Kiribati\",\"Korea, Rep.\",\"Kuwait\",\"Latin America & Caribbean (excluding high income)\",\"Lao PDR\",\"Lebanon\",\"Latin America & Caribbean\",\"Least developed countries: UN classification\",\"Low income\",\"Liechtenstein\",\"Sri Lanka\",\"Lower middle income\",\"Low & middle income\",\"Lesotho\",\"Lithuania\",\"Luxembourg\",\"Latvia\",\"Macao SAR, China\",\"St. Martin (French part)\",\"Morocco\",\"Monaco\",\"Moldova\",\"Madagascar\",\"Middle East & North Africa\",\"Mexico\",\"North Macedonia\",\"Malta\",\"Myanmar\",\"Montenegro\",\"Mongolia\",\"Northern Mariana Islands\",\"Malawi\",\"Malaysia\",\"North America\",\"New Caledonia\",\"Nigeria\",\"Netherlands\",\"Norway\",\"Nepal\",\"New Zealand\",\"OECD members\",\"Oman\",\"Pakistan\",\"Peru\",\"Philippines\",\"Palau\",\"Poland\",\"Puerto Rico\",\"Korea, Dem. People's Rep.\",\"Portugal\",\"Paraguay\",\"West Bank and Gaza\",\"Post-demographic dividend\",\"French Polynesia\",\"Qatar\",\"Romania\",\"Russian Federation\",\"Senegal\",\"Singapore\",\"Sierra Leone\",\"San Marino\",\"Serbia\",\"Sub-Saharan Africa\",\"Sao Tome and Principe\",\"Suriname\",\"Slovak Republic\",\"Slovenia\",\"Sweden\",\"Turks and Caicos Islands\",\"Chad\",\"Europe & Central Asia (IDA & IBRD countries)\",\"Togo\",\"Tajikistan\",\"Turkmenistan\",\"Latin America & the Caribbean (IDA & IBRD countries)\",\"Tonga\",\"Tunisia\",\"Tuvalu\",\"Tanzania\",\"Uganda\",\"Ukraine\",\"Upper middle income\",\"United States\",\"Uzbekistan\",\"Viet Nam\",\"World\",\"Samoa\",\"Zimbabwe\"],\"name\":\"\",\"z\":[30.0340981310563,29.5172067235587,70.7360679461577,90.640001490064,82.4117239415569,98.8963233865813,71.6117027151749,99.739449377802,59.1092953183807,95.6543313759674,98.9039755631804,86.9706794612828,93.0997559157322,87.2587154718951,73.3419919439661,6.12644463898753,99.0397292852425,91.3632513312481,96.7000018583182,98.7713643041914,43.8921552555398,11.5843357881251,73.8560448264451,80.5075784878385,99.7650627352206,97.8834116268806,99.9164119020981,99.9188291924832,44.9411768110773,70.5979339572563,78.4470389439723,91.8732478669711,67.0895117739847,98.2336738195882,99.5671426373018,97.0193826204319,13.2378982432178,96.8167469839566,99.6420270617799,41.8635812237094,99.7041454123987,99.8041470058874,69.1418510304816,44.4680831984093,100.0,47.6746525259498,23.871601843252,98.879641286099,56.293305047255,99.059791733307,94.3030605989175,100.0,65.2067969400954,100.0,35.3924601354888,42.527270040724,30.2661667151466,31.2258940831658,99.7098313889755,95.9914050398065,94.2212514688695,59.7426312653863,100.0,99.4711560405675,92.7105575597704,85.7091310193345,98.6585502009944,76.4871521039571,29.131279569715,14.4140746669502,99.2801236024823,100.0,68.250412068412,17.8720755715615,47.7,75.2136848541317,28.4720645391208,28.6029483413205,100.0,47.1275328737655,63.7993267618182,68.8059710676649,28.2174874193037,94.9814964714414,99.5340819574653,97.1112722593105,100.0,96.6287648090298,74.8241993528604,100.0,75.2243421159045,22.2392232754516,78.4821111166479,43.0378794213272,80.4470258702833,99.7724155281172,57.3964993719658,85.1189179871969,39.2801550444961,90.6391752577319,17.7570796234108,93.941920809996,97.3935471146617,96.8652854148107,28.9848848748333,99.9678911890245,98.8231103374865,16.1166371410422,100.0,91.3340517052097,90.851749132955,50.6017785742925,51.9852117120259,47.9019041200159,90.4408486187601,88.9144993074404,99.8731075904989,66.531399868941,95.1567339921988,64.2206042704366,80.3301824695162,97.7912710276369,81.8132594702229,96.654816058767,82.0723248379512,76.2331071384836,26.6925904153209,100.0,10.262418642337,100.0,75.0752476006734,31.9852156360482,36.3006918200211,55.7961520243991,99.1847298839003,98.2743209096652,99.7388798657575,47.0850771759839,6.24704860480126,80.0731676868782,19.4177904317129,55.2921007475287,94.8805426953047,69.4125477671257,29.5287016952487,74.3034603115934,8.70710061176711,11.3356525332316,18.6814232075292,87.6207250140124,80.6207019281883,97.468388745246,79.8452982407754,57.7814114254904,72.9271522792495,62.1917137502586,26.5164278963248],\"type\":\"choropleth\"}],                        {\"template\":{\"data\":{\"histogram2dcontour\":[{\"type\":\"histogram2dcontour\",\"colorbar\":{\"outlinewidth\":0,\"ticks\":\"\"},\"colorscale\":[[0.0,\"#0d0887\"],[0.1111111111111111,\"#46039f\"],[0.2222222222222222,\"#7201a8\"],[0.3333333333333333,\"#9c179e\"],[0.4444444444444444,\"#bd3786\"],[0.5555555555555556,\"#d8576b\"],[0.6666666666666666,\"#ed7953\"],[0.7777777777777778,\"#fb9f3a\"],[0.8888888888888888,\"#fdca26\"],[1.0,\"#f0f921\"]]}],\"choropleth\":[{\"type\":\"choropleth\",\"colorbar\":{\"outlinewidth\":0,\"ticks\":\"\"}}],\"histogram2d\":[{\"type\":\"histogram2d\",\"colorbar\":{\"outlinewidth\":0,\"ticks\":\"\"},\"colorscale\":[[0.0,\"#0d0887\"],[0.1111111111111111,\"#46039f\"],[0.2222222222222222,\"#7201a8\"],[0.3333333333333333,\"#9c179e\"],[0.4444444444444444,\"#bd3786\"],[0.5555555555555556,\"#d8576b\"],[0.6666666666666666,\"#ed7953\"],[0.7777777777777778,\"#fb9f3a\"],[0.8888888888888888,\"#fdca26\"],[1.0,\"#f0f921\"]]}],\"heatmap\":[{\"type\":\"heatmap\",\"colorbar\":{\"outlinewidth\":0,\"ticks\":\"\"},\"colorscale\":[[0.0,\"#0d0887\"],[0.1111111111111111,\"#46039f\"],[0.2222222222222222,\"#7201a8\"],[0.3333333333333333,\"#9c179e\"],[0.4444444444444444,\"#bd3786\"],[0.5555555555555556,\"#d8576b\"],[0.6666666666666666,\"#ed7953\"],[0.7777777777777778,\"#fb9f3a\"],[0.8888888888888888,\"#fdca26\"],[1.0,\"#f0f921\"]]}],\"heatmapgl\":[{\"type\":\"heatmapgl\",\"colorbar\":{\"outlinewidth\":0,\"ticks\":\"\"},\"colorscale\":[[0.0,\"#0d0887\"],[0.1111111111111111,\"#46039f\"],[0.2222222222222222,\"#7201a8\"],[0.3333333333333333,\"#9c179e\"],[0.4444444444444444,\"#bd3786\"],[0.5555555555555556,\"#d8576b\"],[0.6666666666666666,\"#ed7953\"],[0.7777777777777778,\"#fb9f3a\"],[0.8888888888888888,\"#fdca26\"],[1.0,\"#f0f921\"]]}],\"contourcarpet\":[{\"type\":\"contourcarpet\",\"colorbar\":{\"outlinewidth\":0,\"ticks\":\"\"}}],\"contour\":[{\"type\":\"contour\",\"colorbar\":{\"outlinewidth\":0,\"ticks\":\"\"},\"colorscale\":[[0.0,\"#0d0887\"],[0.1111111111111111,\"#46039f\"],[0.2222222222222222,\"#7201a8\"],[0.3333333333333333,\"#9c179e\"],[0.4444444444444444,\"#bd3786\"],[0.5555555555555556,\"#d8576b\"],[0.6666666666666666,\"#ed7953\"],[0.7777777777777778,\"#fb9f3a\"],[0.8888888888888888,\"#fdca26\"],[1.0,\"#f0f921\"]]}],\"surface\":[{\"type\":\"surface\",\"colorbar\":{\"outlinewidth\":0,\"ticks\":\"\"},\"colorscale\":[[0.0,\"#0d0887\"],[0.1111111111111111,\"#46039f\"],[0.2222222222222222,\"#7201a8\"],[0.3333333333333333,\"#9c179e\"],[0.4444444444444444,\"#bd3786\"],[0.5555555555555556,\"#d8576b\"],[0.6666666666666666,\"#ed7953\"],[0.7777777777777778,\"#fb9f3a\"],[0.8888888888888888,\"#fdca26\"],[1.0,\"#f0f921\"]]}],\"mesh3d\":[{\"type\":\"mesh3d\",\"colorbar\":{\"outlinewidth\":0,\"ticks\":\"\"}}],\"scatter\":[{\"fillpattern\":{\"fillmode\":\"overlay\",\"size\":10,\"solidity\":0.2},\"type\":\"scatter\"}],\"parcoords\":[{\"type\":\"parcoords\",\"line\":{\"colorbar\":{\"outlinewidth\":0,\"ticks\":\"\"}}}],\"scatterpolargl\":[{\"type\":\"scatterpolargl\",\"marker\":{\"colorbar\":{\"outlinewidth\":0,\"ticks\":\"\"}}}],\"bar\":[{\"error_x\":{\"color\":\"#2a3f5f\"},\"error_y\":{\"color\":\"#2a3f5f\"},\"marker\":{\"line\":{\"color\":\"#E5ECF6\",\"width\":0.5},\"pattern\":{\"fillmode\":\"overlay\",\"size\":10,\"solidity\":0.2}},\"type\":\"bar\"}],\"scattergeo\":[{\"type\":\"scattergeo\",\"marker\":{\"colorbar\":{\"outlinewidth\":0,\"ticks\":\"\"}}}],\"scatterpolar\":[{\"type\":\"scatterpolar\",\"marker\":{\"colorbar\":{\"outlinewidth\":0,\"ticks\":\"\"}}}],\"histogram\":[{\"marker\":{\"pattern\":{\"fillmode\":\"overlay\",\"size\":10,\"solidity\":0.2}},\"type\":\"histogram\"}],\"scattergl\":[{\"type\":\"scattergl\",\"marker\":{\"colorbar\":{\"outlinewidth\":0,\"ticks\":\"\"}}}],\"scatter3d\":[{\"type\":\"scatter3d\",\"line\":{\"colorbar\":{\"outlinewidth\":0,\"ticks\":\"\"}},\"marker\":{\"colorbar\":{\"outlinewidth\":0,\"ticks\":\"\"}}}],\"scattermapbox\":[{\"type\":\"scattermapbox\",\"marker\":{\"colorbar\":{\"outlinewidth\":0,\"ticks\":\"\"}}}],\"scatterternary\":[{\"type\":\"scatterternary\",\"marker\":{\"colorbar\":{\"outlinewidth\":0,\"ticks\":\"\"}}}],\"scattercarpet\":[{\"type\":\"scattercarpet\",\"marker\":{\"colorbar\":{\"outlinewidth\":0,\"ticks\":\"\"}}}],\"carpet\":[{\"aaxis\":{\"endlinecolor\":\"#2a3f5f\",\"gridcolor\":\"white\",\"linecolor\":\"white\",\"minorgridcolor\":\"white\",\"startlinecolor\":\"#2a3f5f\"},\"baxis\":{\"endlinecolor\":\"#2a3f5f\",\"gridcolor\":\"white\",\"linecolor\":\"white\",\"minorgridcolor\":\"white\",\"startlinecolor\":\"#2a3f5f\"},\"type\":\"carpet\"}],\"table\":[{\"cells\":{\"fill\":{\"color\":\"#EBF0F8\"},\"line\":{\"color\":\"white\"}},\"header\":{\"fill\":{\"color\":\"#C8D4E3\"},\"line\":{\"color\":\"white\"}},\"type\":\"table\"}],\"barpolar\":[{\"marker\":{\"line\":{\"color\":\"#E5ECF6\",\"width\":0.5},\"pattern\":{\"fillmode\":\"overlay\",\"size\":10,\"solidity\":0.2}},\"type\":\"barpolar\"}],\"pie\":[{\"automargin\":true,\"type\":\"pie\"}]},\"layout\":{\"autotypenumbers\":\"strict\",\"colorway\":[\"#636efa\",\"#EF553B\",\"#00cc96\",\"#ab63fa\",\"#FFA15A\",\"#19d3f3\",\"#FF6692\",\"#B6E880\",\"#FF97FF\",\"#FECB52\"],\"font\":{\"color\":\"#2a3f5f\"},\"hovermode\":\"closest\",\"hoverlabel\":{\"align\":\"left\"},\"paper_bgcolor\":\"white\",\"plot_bgcolor\":\"#E5ECF6\",\"polar\":{\"bgcolor\":\"#E5ECF6\",\"angularaxis\":{\"gridcolor\":\"white\",\"linecolor\":\"white\",\"ticks\":\"\"},\"radialaxis\":{\"gridcolor\":\"white\",\"linecolor\":\"white\",\"ticks\":\"\"}},\"ternary\":{\"bgcolor\":\"#E5ECF6\",\"aaxis\":{\"gridcolor\":\"white\",\"linecolor\":\"white\",\"ticks\":\"\"},\"baxis\":{\"gridcolor\":\"white\",\"linecolor\":\"white\",\"ticks\":\"\"},\"caxis\":{\"gridcolor\":\"white\",\"linecolor\":\"white\",\"ticks\":\"\"}},\"coloraxis\":{\"colorbar\":{\"outlinewidth\":0,\"ticks\":\"\"}},\"colorscale\":{\"sequential\":[[0.0,\"#0d0887\"],[0.1111111111111111,\"#46039f\"],[0.2222222222222222,\"#7201a8\"],[0.3333333333333333,\"#9c179e\"],[0.4444444444444444,\"#bd3786\"],[0.5555555555555556,\"#d8576b\"],[0.6666666666666666,\"#ed7953\"],[0.7777777777777778,\"#fb9f3a\"],[0.8888888888888888,\"#fdca26\"],[1.0,\"#f0f921\"]],\"sequentialminus\":[[0.0,\"#0d0887\"],[0.1111111111111111,\"#46039f\"],[0.2222222222222222,\"#7201a8\"],[0.3333333333333333,\"#9c179e\"],[0.4444444444444444,\"#bd3786\"],[0.5555555555555556,\"#d8576b\"],[0.6666666666666666,\"#ed7953\"],[0.7777777777777778,\"#fb9f3a\"],[0.8888888888888888,\"#fdca26\"],[1.0,\"#f0f921\"]],\"diverging\":[[0,\"#8e0152\"],[0.1,\"#c51b7d\"],[0.2,\"#de77ae\"],[0.3,\"#f1b6da\"],[0.4,\"#fde0ef\"],[0.5,\"#f7f7f7\"],[0.6,\"#e6f5d0\"],[0.7,\"#b8e186\"],[0.8,\"#7fbc41\"],[0.9,\"#4d9221\"],[1,\"#276419\"]]},\"xaxis\":{\"gridcolor\":\"white\",\"linecolor\":\"white\",\"ticks\":\"\",\"title\":{\"standoff\":15},\"zerolinecolor\":\"white\",\"automargin\":true,\"zerolinewidth\":2},\"yaxis\":{\"gridcolor\":\"white\",\"linecolor\":\"white\",\"ticks\":\"\",\"title\":{\"standoff\":15},\"zerolinecolor\":\"white\",\"automargin\":true,\"zerolinewidth\":2},\"scene\":{\"xaxis\":{\"backgroundcolor\":\"#E5ECF6\",\"gridcolor\":\"white\",\"linecolor\":\"white\",\"showbackground\":true,\"ticks\":\"\",\"zerolinecolor\":\"white\",\"gridwidth\":2},\"yaxis\":{\"backgroundcolor\":\"#E5ECF6\",\"gridcolor\":\"white\",\"linecolor\":\"white\",\"showbackground\":true,\"ticks\":\"\",\"zerolinecolor\":\"white\",\"gridwidth\":2},\"zaxis\":{\"backgroundcolor\":\"#E5ECF6\",\"gridcolor\":\"white\",\"linecolor\":\"white\",\"showbackground\":true,\"ticks\":\"\",\"zerolinecolor\":\"white\",\"gridwidth\":2}},\"shapedefaults\":{\"line\":{\"color\":\"#2a3f5f\"}},\"annotationdefaults\":{\"arrowcolor\":\"#2a3f5f\",\"arrowhead\":0,\"arrowwidth\":1},\"geo\":{\"bgcolor\":\"white\",\"landcolor\":\"#E5ECF6\",\"subunitcolor\":\"white\",\"showland\":true,\"showlakes\":true,\"lakecolor\":\"white\"},\"title\":{\"x\":0.05},\"mapbox\":{\"style\":\"light\"}}},\"geo\":{\"domain\":{\"x\":[0.0,1.0],\"y\":[0.0,1.0]},\"center\":{},\"showframe\":false,\"showcoastlines\":false},\"coloraxis\":{\"colorbar\":{\"title\":{\"text\":\"Access (%)\"}},\"colorscale\":[[0.0,\"rgb(255,255,217)\"],[0.125,\"rgb(237,248,177)\"],[0.25,\"rgb(199,233,180)\"],[0.375,\"rgb(127,205,187)\"],[0.5,\"rgb(65,182,196)\"],[0.625,\"rgb(29,145,192)\"],[0.75,\"rgb(34,94,168)\"],[0.875,\"rgb(37,52,148)\"],[1.0,\"rgb(8,29,88)\"]]},\"legend\":{\"tracegroupgap\":0},\"title\":{\"text\":\"Access to Safely Managed Drinking Water by Country (2022)\"},\"width\":1000,\"height\":600},                        {\"responsive\": true}                    ).then(function(){\n",
       "                            \n",
       "var gd = document.getElementById('3408ec7d-a73f-4e76-b198-90fd912fa6c8');\n",
       "var x = new MutationObserver(function (mutations, observer) {{\n",
       "        var display = window.getComputedStyle(gd).display;\n",
       "        if (!display || display === 'none') {{\n",
       "            console.log([gd, 'removed!']);\n",
       "            Plotly.purge(gd);\n",
       "            observer.disconnect();\n",
       "        }}\n",
       "}});\n",
       "\n",
       "// Listen for the removal of the full notebook cells\n",
       "var notebookContainer = gd.closest('#notebook-container');\n",
       "if (notebookContainer) {{\n",
       "    x.observe(notebookContainer, {childList: true});\n",
       "}}\n",
       "\n",
       "// Listen for the clearing of the current output cell\n",
       "var outputEl = gd.closest('.output');\n",
       "if (outputEl) {{\n",
       "    x.observe(outputEl, {childList: true});\n",
       "}}\n",
       "\n",
       "                        })                };                });            </script>        </div>"
      ]
     },
     "metadata": {},
     "output_type": "display_data"
    }
   ],
   "source": [
    "fig = px.choropleth(df_clean,\n",
    "                    locations='Country',\n",
    "                    locationmode='country names',\n",
    "                    color='Access (%)',\n",
    "                    color_continuous_scale='YlGnBu',\n",
    "                    title='Access to Safely Managed Drinking Water by Country (2022)')\n",
    "\n",
    "fig.update_layout(\n",
    "    geo=dict(showframe=False, showcoastlines=False),\n",
    "    width=1000,\n",
    "    height=600\n",
    ")\n",
    "\n",
    "fig.show()"
   ]
  },
  {
   "cell_type": "markdown",
   "id": "bb2fb280-d454-4282-99ab-9583f046a252",
   "metadata": {},
   "source": [
    "## 4. Explanation\n",
    "\n",
    "This map shows that access to safely managed drinking water is high in most developed countries (90%+), while many countries in Sub-Saharan Africa and parts of Asia have lower access with some below 50%. This shows that clean water is not equal around the world."
   ]
  }
 ],
 "metadata": {
  "kernelspec": {
   "display_name": "Python 3 (ipykernel)",
   "language": "python",
   "name": "python3"
  },
  "language_info": {
   "codemirror_mode": {
    "name": "ipython",
    "version": 3
   },
   "file_extension": ".py",
   "mimetype": "text/x-python",
   "name": "python",
   "nbconvert_exporter": "python",
   "pygments_lexer": "ipython3",
   "version": "3.12.2"
  }
 },
 "nbformat": 4,
 "nbformat_minor": 5
}
